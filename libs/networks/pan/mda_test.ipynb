{
 "cells": [
  {
   "cell_type": "code",
   "execution_count": 5,
   "metadata": {},
   "outputs": [],
   "source": [
    "import numpy as np\n",
    "import cv2"
   ]
  },
  {
   "cell_type": "code",
   "execution_count": 6,
   "metadata": {},
   "outputs": [],
   "source": [
    "def binary_map_gen(img, boxes):\n",
    "    temp = np.zeros([img.shape[0], img.shape[1]], np.uint8)\n",
    "    boxes = boxes.astype(np.int32)\n",
    "\n",
    "    for box in boxes:\n",
    "        points = np.array([[box[0], box[1]], [box[2], box[3]], [box[4], box[5]], [box[6], box[7]]], np.int32)\n",
    "        points = points.reshape((-1, 1, 2))\n",
    "        cv2.fillPoly(temp, [points], 1)\n",
    "\n",
    "        head_p0 = [box[0], box[1]]\n",
    "        head_p1 = [box[2], box[3]]\n",
    "        head_p2 = [(box[0] + box[6])/5, (box[1] + box[7])/5]\n",
    "        head_p3 = [(box[2] + box[4])/5, (box[3] + box[5])/5]\n",
    "        head_points = np.array([head_p0, head_p1, head_p2, head_p3], np.int32)\n",
    "        head_points = head_points.reshape((-1, 1, 2))\n",
    "        cv2.fillPoly(temp, [head_points], 1)"
   ]
  },
  {
   "cell_type": "code",
   "execution_count": 51,
   "metadata": {},
   "outputs": [],
   "source": [
    "def get_head_part_points(ship_points, head_part_ratio=0.5):\n",
    "    def _get_divide_point(start_point, end_point, ratio=0.5):\n",
    "        offset = (end_point - start_point)*ratio\n",
    "        new_end_point = start_point + offset\n",
    "        return np.array(start_point), np.array(new_end_point)\n",
    "    \n",
    "    left_top = ship_points[0]\n",
    "    right_top = ship_points[1]\n",
    "    left_bottom = ship_points[3]\n",
    "    right_bottom = ship_points[2]\n",
    "\n",
    "    left_top, left_bottom = _get_divide_point(\n",
    "        left_top, left_bottom, ratio=head_part_ratio)\n",
    "    right_top, right_bottom = _get_divide_point(\n",
    "        right_top, right_bottom, ratio=head_part_ratio)\n",
    "    print(left_top, right_top, right_bottom, left_bottom)\n",
    "    head_part_points = np.array([left_top, right_top, right_bottom, left_bottom])\n",
    "    return head_part_points"
   ]
  },
  {
   "cell_type": "code",
   "execution_count": 52,
   "metadata": {},
   "outputs": [
    {
     "name": "stdout",
     "output_type": "stream",
     "text": [
      "[1 2] [2 1] [1.75 0.75] [0.75 1.75]\n",
      "[[1.   2.  ]\n",
      " [2.   1.  ]\n",
      " [1.75 0.75]\n",
      " [0.75 1.75]]\n"
     ]
    }
   ],
   "source": [
    "points = np.array([[1,2],[2,1],[1,0],[0,1]])\n",
    "head_points = get_head_part_points(points, 0.25)\n",
    "print(head_points)"
   ]
  },
  {
   "cell_type": "code",
   "execution_count": 2,
   "metadata": {},
   "outputs": [
    {
     "name": "stdout",
     "output_type": "stream",
     "text": [
      "0\n"
     ]
    }
   ],
   "source": []
  },
  {
   "cell_type": "code",
   "execution_count": null,
   "metadata": {},
   "outputs": [],
   "source": []
  }
 ],
 "metadata": {
  "kernelspec": {
   "display_name": "Python 3",
   "language": "python",
   "name": "python3"
  },
  "language_info": {
   "codemirror_mode": {
    "name": "ipython",
    "version": 3
   },
   "file_extension": ".py",
   "mimetype": "text/x-python",
   "name": "python",
   "nbconvert_exporter": "python",
   "pygments_lexer": "ipython3",
   "version": "3.5.2"
  }
 },
 "nbformat": 4,
 "nbformat_minor": 2
}
